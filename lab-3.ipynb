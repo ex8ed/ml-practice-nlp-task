{
 "cells": [
  {
   "cell_type": "markdown",
   "source": [
    "# Лабораторная работа 3\n",
    "\n",
    "Необходимо разработать программу, обеспечивающую кластеризацию новостного потока. Необходимо загрузить новостную ленту, указанную преподавателем, выделив из нее тематические пометы (при наличии). Далее следует векторизовать тексты, провести их кластеризацию и проверить точность кластеризации по тематическим пометам. Также следует выбрать один из кластеров и обучить на нем классификатор. Точность работы классификатора определяется при помощи f1-меры и матрицы ошибок."
   ],
   "metadata": {
    "collapsed": false
   }
  },
  {
   "cell_type": "code",
   "execution_count": 1,
   "outputs": [],
   "source": [
    "import csv\n",
    "import re\n",
    "from tqdm import tqdm\n",
    "import pandas as pd\n",
    "\n",
    "import matplotlib.pyplot as plt\n",
    "\n",
    "plt.rcParams['figure.figsize'] = (12, 8)"
   ],
   "metadata": {
    "collapsed": false,
    "ExecuteTime": {
     "end_time": "2023-05-18T16:12:15.464819Z",
     "start_time": "2023-05-18T16:12:15.054398Z"
    }
   }
  },
  {
   "cell_type": "code",
   "execution_count": 14,
   "outputs": [
    {
     "name": "stdout",
     "output_type": "stream",
     "text": [
      "CPU times: user 14 ms, sys: 3.16 ms, total: 17.2 ms\n",
      "Wall time: 16.6 ms\n"
     ]
    },
    {
     "data": {
      "text/plain": "                date     type  \\\n0  ﻿\"27 апреля 2023\"  Новость   \n1     27 апреля 2023  Новость   \n2     27 апреля 2023  Новость   \n3     26 апреля 2023  Новость   \n4     26 апреля 2023  Новость   \n\n                                                name  \\\n0  Финансовый конгресс Банка России пройдет 6–7 июля   \n1  Военнослужащие и члены их семей получили более...   \n2  В 2022 году МФО увеличили кредитование бизнеса...   \n3  Пенсионные накопления застрахованы государство...   \n4           Фальшивок стало меньше: итоги I квартала   \n\n                                               title  \\\n0  Банк России возобновляет проведение традиционн...   \n1  С конца сентября 2022 года до 31 марта 2023 го...   \n2  В прошлом году микрофинансовые организации (МФ...   \n3  Предельный размер гарантийного возмещения по д...   \n4  В I квартале 2023 года в банковской системе Ро...   \n\n                                                text  \n0  Тема пленарной сессии — структурная перестройк...  \n1  Без учета кредитных каникул, оформленных в свя...  \n2  13% займов было выдано дистанционно. Таким кан...  \n3  Такой закон одобрил Совет Федерации, и он всту...  \n4  С подробной информацией можно ознакомиться в м...  ",
      "text/html": "<div>\n<style scoped>\n    .dataframe tbody tr th:only-of-type {\n        vertical-align: middle;\n    }\n\n    .dataframe tbody tr th {\n        vertical-align: top;\n    }\n\n    .dataframe thead th {\n        text-align: right;\n    }\n</style>\n<table border=\"1\" class=\"dataframe\">\n  <thead>\n    <tr style=\"text-align: right;\">\n      <th></th>\n      <th>date</th>\n      <th>type</th>\n      <th>name</th>\n      <th>title</th>\n      <th>text</th>\n    </tr>\n  </thead>\n  <tbody>\n    <tr>\n      <th>0</th>\n      <td>﻿\"27 апреля 2023\"</td>\n      <td>Новость</td>\n      <td>Финансовый конгресс Банка России пройдет 6–7 июля</td>\n      <td>Банк России возобновляет проведение традиционн...</td>\n      <td>Тема пленарной сессии — структурная перестройк...</td>\n    </tr>\n    <tr>\n      <th>1</th>\n      <td>27 апреля 2023</td>\n      <td>Новость</td>\n      <td>Военнослужащие и члены их семей получили более...</td>\n      <td>С конца сентября 2022 года до 31 марта 2023 го...</td>\n      <td>Без учета кредитных каникул, оформленных в свя...</td>\n    </tr>\n    <tr>\n      <th>2</th>\n      <td>27 апреля 2023</td>\n      <td>Новость</td>\n      <td>В 2022 году МФО увеличили кредитование бизнеса...</td>\n      <td>В прошлом году микрофинансовые организации (МФ...</td>\n      <td>13% займов было выдано дистанционно. Таким кан...</td>\n    </tr>\n    <tr>\n      <th>3</th>\n      <td>26 апреля 2023</td>\n      <td>Новость</td>\n      <td>Пенсионные накопления застрахованы государство...</td>\n      <td>Предельный размер гарантийного возмещения по д...</td>\n      <td>Такой закон одобрил Совет Федерации, и он всту...</td>\n    </tr>\n    <tr>\n      <th>4</th>\n      <td>26 апреля 2023</td>\n      <td>Новость</td>\n      <td>Фальшивок стало меньше: итоги I квартала</td>\n      <td>В I квартале 2023 года в банковской системе Ро...</td>\n      <td>С подробной информацией можно ознакомиться в м...</td>\n    </tr>\n  </tbody>\n</table>\n</div>"
     },
     "execution_count": 14,
     "metadata": {},
     "output_type": "execute_result"
    }
   ],
   "source": [
    "%%time\n",
    "# \"date\",\"type\",\"name\",\"title\",\"text\" - headers for CSV\n",
    "with open('./src/cbr-news.csv', 'r', encoding='UTF-8') as NEWS:\n",
    "    txt_news = csv.reader(NEWS, delimiter=',')\n",
    "    news = pd.DataFrame(txt_news, columns=[\"date\",\"type\",\"name\",\"title\",\"text\"])\n",
    "\n",
    "news.head()\n"
   ],
   "metadata": {
    "collapsed": false,
    "ExecuteTime": {
     "end_time": "2023-05-18T16:19:47.184005Z",
     "start_time": "2023-05-18T16:19:47.161800Z"
    }
   }
  }
 ],
 "metadata": {
  "kernelspec": {
   "display_name": "Python 3",
   "language": "python",
   "name": "python3"
  },
  "language_info": {
   "codemirror_mode": {
    "name": "ipython",
    "version": 2
   },
   "file_extension": ".py",
   "mimetype": "text/x-python",
   "name": "python",
   "nbconvert_exporter": "python",
   "pygments_lexer": "ipython2",
   "version": "2.7.6"
  }
 },
 "nbformat": 4,
 "nbformat_minor": 0
}
